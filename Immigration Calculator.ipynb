{
 "cells": [
  {
   "cell_type": "code",
   "execution_count": 21,
   "id": "1c296218",
   "metadata": {},
   "outputs": [],
   "source": [
    "# Imports for the data to be processed\n",
    "import pandas as pd\n",
    "import numpy as np\n",
    "import seaborn as sns\n",
    "from copy import copy\n",
    "from sklearn.neighbors import KNeighborsClassifier\n",
    "from sklearn.model_selection import KFold\n",
    "import matplotlib.pyplot as plt\n",
    "from sklearn.metrics import confusion_matrix, ConfusionMatrixDisplay\n",
    "from sklearn.ensemble import RandomForestClassifier\n",
    "from sklearn.metrics import r2_score\n",
    "from sklearn.ensemble import RandomForestRegressor\n",
    "from sklearn.decomposition import PCA\n",
    "import plotly.express as px\n",
    "import matplotlib.ticker as ticker\n",
    "from matplotlib import pyplot\n",
    "from sklearn.model_selection import StratifiedKFold\n",
    "import re\n"
   ]
  },
  {
   "cell_type": "code",
   "execution_count": 9,
   "id": "71ef2ae3",
   "metadata": {},
   "outputs": [
    {
     "ename": "NameError",
     "evalue": "name 'NotebookApp' is not defined",
     "output_type": "error",
     "traceback": [
      "\u001b[0;31m---------------------------------------------------------------------------\u001b[0m",
      "\u001b[0;31mNameError\u001b[0m                                 Traceback (most recent call last)",
      "\u001b[0;32m/var/folders/_1/4ff39r7j7cs78zsqt7mb3tr80000gn/T/ipykernel_18588/314300192.py\u001b[0m in \u001b[0;36m<module>\u001b[0;34m\u001b[0m\n\u001b[0;32m----> 1\u001b[0;31m \u001b[0mNotebookApp\u001b[0m\u001b[0;34m.\u001b[0m\u001b[0miopub_data_rate_limit\u001b[0m\u001b[0;34m=\u001b[0m\u001b[0;36m1.0e10\u001b[0m\u001b[0;34m\u001b[0m\u001b[0;34m\u001b[0m\u001b[0m\n\u001b[0m",
      "\u001b[0;31mNameError\u001b[0m: name 'NotebookApp' is not defined"
     ]
    }
   ],
   "source": [
    "NotebookApp.iopub_data_rate_limit=1.0e10 "
   ]
  },
  {
   "cell_type": "code",
   "execution_count": 22,
   "id": "c11a2937",
   "metadata": {
    "scrolled": true
   },
   "outputs": [
    {
     "data": {
      "text/plain": [
       "array(['Immediate Relatives - Spouses', 'Employment Preference 2nd',\n",
       "       'Employment Preference 4th', 'Immediate Relatives - Parents',\n",
       "       'Family Preference 2nd', 'Employment Preference 1st',\n",
       "       'Immediate Relatives - Children',\n",
       "       'Employment Preference 3rd Skilled', 'Diversity Program', 'Other',\n",
       "       'Family Preference 3rd', 'Refugee and Asylee Adjustments',\n",
       "       'Family Preference 4th', 'Employment Preference 3rd Unskilled',\n",
       "       'Employment Preference 5th', 'Family Preference 1st'], dtype=object)"
      ]
     },
     "execution_count": 22,
     "metadata": {},
     "output_type": "execute_result"
    }
   ],
   "source": [
    "\n",
    "df_all_immigrant_data = pd.read_csv('immigration_statistics.csv', encoding='cp1252')\n",
    "new_header = df_all_immigrant_data.iloc[1] #grab the first row for the header\n",
    "df_all_immigrant_data = df_all_immigrant_data[2:] #take the data less the header row\n",
    "df_all_immigrant_data.columns = new_header #set the header row as the df header\n",
    "df_all_immigrant_data.dropna(axis = 0, inplace = True)\n",
    "\n",
    "df_all_immigrant_data_accepted = df_all_immigrant_data[df_all_immigrant_data['Admissions'].str.contains(r'\\d')]\n",
    "admissions_count = df_all_immigrant_data_accepted['Admissions'].str.extract(r'(\\d+)', expand=False).astype(int)\n",
    "new_df = df_all_immigrant_data_accepted.loc[df_all_immigrant_data_accepted.index.repeat(admissions_count)].reset_index(drop=True)\n",
    "\n",
    "valid_rows = df_all_immigrant_data[(df_all_immigrant_data['Admissions'] == ' D ')]\n",
    "new_df = pd.concat([new_df, valid_rows], ignore_index=True)\n",
    "\n",
    "valid_rows = df_all_immigrant_data[(df_all_immigrant_data['Admissions'] == 'D')]\n",
    "immigrant_data = pd.concat([new_df, valid_rows], ignore_index=True)\n",
    "\n",
    "admission_codes = []\n",
    "for idx, row in immigrant_data.iterrows():\n",
    "    if row['Admissions'] == 'D' or row['Admissions'] == ' D ':\n",
    "        admission_codes.append('No')\n",
    "    else:\n",
    "        admission_codes.append('Yes')\n",
    "immigrant_data['Admission Codes'] = admission_codes\n",
    "immigrant_data = immigrant_data.drop(['County of Residence'], axis = 1)\n",
    "immigrant_data['Major Class of Admission'].unique()"
   ]
  },
  {
   "cell_type": "code",
   "execution_count": 23,
   "id": "9b3e923f",
   "metadata": {},
   "outputs": [
    {
     "name": "stderr",
     "output_type": "stream",
     "text": [
      "/Users/mayaprasad/opt/anaconda3/lib/python3.9/site-packages/sklearn/utils/deprecation.py:87: FutureWarning: Function get_feature_names is deprecated; get_feature_names is deprecated in 1.0 and will be removed in 1.2. Please use get_feature_names_out instead.\n",
      "  warnings.warn(msg, category=FutureWarning)\n"
     ]
    },
    {
     "name": "stdout",
     "output_type": "stream",
     "text": [
      "please enter the State of Residence: New Jersey\n",
      "please enter the Country of Birth: France\n",
      "please enter the Major Class of Admission: Immediate Relatives - Spouses\n"
     ]
    }
   ],
   "source": [
    "import pandas as pd\n",
    "from sklearn.preprocessing import OneHotEncoder, StandardScaler\n",
    "from sklearn.model_selection import train_test_split\n",
    "from sklearn.linear_model import LogisticRegression\n",
    "from sklearn import neighbors\n",
    "from sklearn.model_selection import StratifiedKFold\n",
    "from sklearn.metrics import accuracy_score\n",
    "from sklearn.metrics import balanced_accuracy_score\n",
    "\n",
    "\n",
    "categorical_features = ['State of Residence',  'Country of Birth', 'Major Class of Admission']\n",
    "\n",
    "# Split data into features and labels\n",
    "X = immigrant_data.drop(['Admissions', 'Admission Codes'], axis=1)\n",
    "y = immigrant_data['Admission Codes']\n",
    "\n",
    "# One-hot encode categorical features\n",
    "encoder = OneHotEncoder(sparse=False)\n",
    "x_categorical = encoder.fit_transform(X[categorical_features])\n",
    "X_categorical = pd.DataFrame(x_categorical, columns=encoder.get_feature_names(categorical_features))\n",
    "X = pd.concat([X.drop(categorical_features, axis=1), X_categorical], axis=1)\n",
    "\n",
    "# initialize of kfold object\n",
    "k_fold = StratifiedKFold(n_splits= 4)\n",
    "clf = LogisticRegression(solver='liblinear')\n",
    "accuracy_scores = []\n",
    "\n",
    "for train_idx, test_idx in k_fold.split(X, y):    \n",
    "    # split into train and test sets\n",
    "    x_train = X.iloc[train_idx, :]\n",
    "    y_train = y.iloc[train_idx]\n",
    "    x_test = X.iloc[test_idx, :]\n",
    "    y_test = y.iloc[test_idx]\n",
    "    \n",
    "    # fit classifier (on training set)\n",
    "    clf.fit(x_train, y_train)\n",
    "    y_pred = clf.predict(x_test)\n",
    "    \n",
    "    accuracy = accuracy_score(y_test, y_pred)\n",
    "    accuracy_scores.append(accuracy)\n",
    "\n",
    "list_of_user_input = {'State of Residence': [], 'Country of Birth': [], 'Major Class of Admission': []}\n",
    "for item in categorical_features:\n",
    "    value_from_user = (input(f'please enter the {item}: '))\n",
    "    list_of_user_input[item] = [value_from_user]\n",
    "sample_df = pd.DataFrame(list_of_user_input)  \n",
    "\n"
   ]
  },
  {
   "cell_type": "code",
   "execution_count": 24,
   "id": "b1ce7d2a",
   "metadata": {},
   "outputs": [
    {
     "name": "stdout",
     "output_type": "stream",
     "text": [
      "Prediction: ['Yes']\n"
     ]
    },
    {
     "name": "stderr",
     "output_type": "stream",
     "text": [
      "/Users/mayaprasad/opt/anaconda3/lib/python3.9/site-packages/sklearn/utils/deprecation.py:87: FutureWarning: Function get_feature_names is deprecated; get_feature_names is deprecated in 1.0 and will be removed in 1.2. Please use get_feature_names_out instead.\n",
      "  warnings.warn(msg, category=FutureWarning)\n"
     ]
    }
   ],
   "source": [
    "\n",
    "# Transform user input using the same encoder\n",
    "sample_info = encoder.transform(sample_df[categorical_features])\n",
    "sample_info = pd.DataFrame(sample_info, columns=encoder.get_feature_names(categorical_features))\n",
    "\n",
    "# Reorder columns to match the trained classifier\n",
    "sample_df = pd.concat([sample_df.drop(categorical_features, axis=1), sample_info], axis=1)\n",
    "sample_df = sample_df.reindex(columns=X.columns, fill_value=0)  # Add missing columns with 0 values\n",
    "\n",
    "# Make prediction for person data\n",
    "prediction = clf.predict(sample_df)\n",
    "print('Prediction:', prediction)"
   ]
  },
  {
   "cell_type": "code",
   "execution_count": 26,
   "id": "3f00f40c",
   "metadata": {},
   "outputs": [
    {
     "name": "stdout",
     "output_type": "stream",
     "text": [
      "Average Accuracy: 0.8782618987941071\n"
     ]
    }
   ],
   "source": [
    "# Calculate average accuracy\n",
    "average_accuracy = sum(accuracy_scores) / len(accuracy_scores)\n",
    "print('Average Accuracy:', average_accuracy)"
   ]
  },
  {
   "cell_type": "code",
   "execution_count": 27,
   "id": "3fdcadc6",
   "metadata": {},
   "outputs": [
    {
     "name": "stderr",
     "output_type": "stream",
     "text": [
      "/Users/mayaprasad/opt/anaconda3/lib/python3.9/site-packages/sklearn/utils/deprecation.py:87: FutureWarning: Function get_feature_names is deprecated; get_feature_names is deprecated in 1.0 and will be removed in 1.2. Please use get_feature_names_out instead.\n",
      "  warnings.warn(msg, category=FutureWarning)\n"
     ]
    },
    {
     "name": "stdout",
     "output_type": "stream",
     "text": [
      "Mean accuracy: 0.9235142172835381\n"
     ]
    }
   ],
   "source": [
    "import pandas as pd\n",
    "from sklearn.preprocessing import OneHotEncoder\n",
    "from sklearn.model_selection import train_test_split\n",
    "from sklearn.linear_model import LogisticRegression\n",
    "from sklearn.model_selection import StratifiedKFold\n",
    "from sklearn.metrics import accuracy_score\n",
    "from sklearn.feature_selection import SelectKBest, f_classif\n",
    "from scipy import sparse\n",
    "import joblib\n",
    "\n",
    "def evaluate_fold(x_train, y_train, x_test, y_test, classifier):\n",
    "    # Fit classifier (on training set)\n",
    "    classifier.fit(x_train, y_train)\n",
    "    y_pred = classifier.predict(x_test)\n",
    "    accuracy = accuracy_score(y_test, y_pred)\n",
    "    return accuracy\n",
    "\n",
    "categorical_features = ['State of Residence', 'Country of Birth', 'Major Class of Admission']\n",
    "\n",
    "# Split data into features and labels\n",
    "X = immigrant_data.drop(['Admissions', 'Admission Codes'], axis=1)\n",
    "y = immigrant_data['Admission Codes']\n",
    "\n",
    "# One-hot encode categorical features\n",
    "encoder = OneHotEncoder(sparse=False)\n",
    "x_categorical = encoder.fit_transform(X[categorical_features])\n",
    "X_categorical = pd.DataFrame(x_categorical, columns=encoder.get_feature_names(categorical_features))\n",
    "X = pd.concat([X.drop(categorical_features, axis=1), X_categorical], axis=1)\n",
    "\n",
    "# Perform feature selection\n",
    "selector = SelectKBest(score_func=f_classif, k=10)\n",
    "X_selected = selector.fit_transform(X, y)\n",
    "selected_feature_indices = selector.get_support(indices=True)\n",
    "X = X.iloc[:, selected_feature_indices]\n",
    "\n",
    "# Initialize the k-fold object\n",
    "k_fold = StratifiedKFold(n_splits=3)\n",
    "\n",
    "# Initialize and configure the classifier\n",
    "clf = LogisticRegression()\n",
    "\n",
    "# Perform parallel processing for cross-validation\n",
    "accuracy_scores = joblib.Parallel(n_jobs=-1)(\n",
    "    joblib.delayed(evaluate_fold)(X.iloc[train_idx, :], y.iloc[train_idx], X.iloc[test_idx, :], y.iloc[test_idx], clf)\n",
    "    for train_idx, test_idx in k_fold.split(X, y)\n",
    ")\n",
    "\n",
    "mean_accuracy = sum(accuracy_scores) / len(accuracy_scores)\n",
    "print(\"Mean accuracy:\", mean_accuracy)\n",
    "\n",
    "\n"
   ]
  },
  {
   "cell_type": "code",
   "execution_count": null,
   "id": "5c6d9070",
   "metadata": {},
   "outputs": [],
   "source": []
  },
  {
   "cell_type": "code",
   "execution_count": null,
   "id": "d305bf8a",
   "metadata": {},
   "outputs": [],
   "source": []
  }
 ],
 "metadata": {
  "kernelspec": {
   "display_name": "Python 3 (ipykernel)",
   "language": "python",
   "name": "python3"
  },
  "language_info": {
   "codemirror_mode": {
    "name": "ipython",
    "version": 3
   },
   "file_extension": ".py",
   "mimetype": "text/x-python",
   "name": "python",
   "nbconvert_exporter": "python",
   "pygments_lexer": "ipython3",
   "version": "3.9.13"
  }
 },
 "nbformat": 4,
 "nbformat_minor": 5
}
